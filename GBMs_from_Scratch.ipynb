{
  "nbformat": 4,
  "nbformat_minor": 0,
  "metadata": {
    "colab": {
      "name": "GBMs from Scratch.ipynb",
      "provenance": [],
      "private_outputs": true,
      "include_colab_link": true
    },
    "kernelspec": {
      "name": "python3",
      "display_name": "Python 3"
    }
  },
  "cells": [
    {
      "cell_type": "markdown",
      "metadata": {
        "id": "view-in-github",
        "colab_type": "text"
      },
      "source": [
        "<a href=\"https://colab.research.google.com/github/CS129-18-A-2019-2020/GBM-From-Scratch/blob/master/GBMs_from_Scratch.ipynb\" target=\"_parent\"><img src=\"https://colab.research.google.com/assets/colab-badge.svg\" alt=\"Open In Colab\"/></a>"
      ]
    },
    {
      "cell_type": "code",
      "metadata": {
        "id": "-QBotyNCGFi0",
        "colab_type": "code",
        "colab": {}
      },
      "source": [
        "%pylab inline\n",
        "from sklearn import tree, metrics\n",
        "import pandas as pd"
      ],
      "execution_count": 0,
      "outputs": []
    },
    {
      "cell_type": "markdown",
      "metadata": {
        "id": "pVuNRS91GSzI",
        "colab_type": "text"
      },
      "source": [
        "### Gradient Boosted Machines (GBMs)\n",
        "\n",
        "GBMs are generally composed of Additive Decision Trees, such that trees are generated sequentially and each new tree builds upon the errors of the tree before it. TL;DR: Use the errors of the previous tree as the new values to be predicted.\n",
        "\n",
        "\n",
        "#### Generating Sample Data"
      ]
    },
    {
      "cell_type": "code",
      "metadata": {
        "id": "ViuJnjiUGOcS",
        "colab_type": "code",
        "colab": {}
      },
      "source": [
        "x = np.arange(0,50)\n",
        "x = pd.DataFrame({'x':x})\n",
        "y1 = np.random.uniform(10,15,10)\n",
        "y2 = np.random.uniform(20,25,10)\n",
        "y3 = np.random.uniform(0,5,10)\n",
        "y4 = np.random.uniform(30,32,10)\n",
        "y5 = np.random.uniform(13,17,10)\n",
        "\n",
        "y = np.concatenate((y1,y2,y3,y4,y5))\n",
        "y = y[:,None]"
      ],
      "execution_count": 0,
      "outputs": []
    },
    {
      "cell_type": "code",
      "metadata": {
        "id": "Zy6HzPSmG4ju",
        "colab_type": "code",
        "colab": {}
      },
      "source": [
        "plt.figure(figsize=(7,5))\n",
        "plt.plot(x,y, 'o')\n",
        "plt.title(\"Scatter plot of x vs. y\")\n",
        "plt.xlabel(\"x\")\n",
        "plt.ylabel(\"y\")\n",
        "plt.show()"
      ],
      "execution_count": 0,
      "outputs": []
    },
    {
      "cell_type": "markdown",
      "metadata": {
        "id": "Qp-idmZ-HVPq",
        "colab_type": "text"
      },
      "source": [
        "### Creating a Simple GBM"
      ]
    },
    {
      "cell_type": "code",
      "metadata": {
        "id": "LKYYc-ywG74b",
        "colab_type": "code",
        "colab": {}
      },
      "source": [
        "y_current = y\n",
        "pred_final = None\n",
        "error_current = 0\n",
        "trees = []"
      ],
      "execution_count": 0,
      "outputs": []
    },
    {
      "cell_type": "code",
      "metadata": {
        "id": "PS1CWO1bIeb_",
        "colab_type": "code",
        "colab": {}
      },
      "source": [
        "for i in range(10):\n",
        "  tree_current = tree.DecisionTreeRegressor(max_depth=2, random_state=42)\n",
        "  tree_current.fit(x, y_current)\n",
        "  pred_current = tree_current.predict(x)\n",
        "\n",
        "  if pred_final is None:\n",
        "    pred_final = pred_current\n",
        "  else:\n",
        "    pred_final = pred_final + pred_current\n",
        "  \n",
        "  error_current = (y[:, 0] - pred_final.reshape(-1, 1)[:, 0])\n",
        "  y_current = error_current\n",
        "\n",
        "  trees.append(tree_current)\n",
        "\n",
        "  # Plot out the current predictions and residuals\n",
        "  xs = np.array(x)\n",
        "  ys = np.array(pred_final)\n",
        "\n",
        "  f, (ax1, ax2) = plt.subplots(1, 2, sharey=True, figsize = (13,2.5))\n",
        "\n",
        "  ax1.plot(x,y, 'o')\n",
        "  ax1.plot(xs, ys, 'r')\n",
        "  ax1.set_title(f'Prediction (Iteration {i+1}) | Current MAE: {np.round(metrics.mean_absolute_error(y[:, 0], pred_final), 4)}')\n",
        "  ax1.set_xlabel('x')\n",
        "  ax1.set_ylabel('y / y_pred')\n",
        "\n",
        "  ax2.plot(x, error_current, 'go')\n",
        "  ax2.set_title(f'Residuals vs. x (Iteration {i+1})')\n",
        "  ax2.set_xlabel('x')\n",
        "  ax2.set_ylabel('Residuals')\n",
        "  plt.show()"
      ],
      "execution_count": 0,
      "outputs": []
    },
    {
      "cell_type": "code",
      "metadata": {
        "id": "kTF9ouv_KsBt",
        "colab_type": "code",
        "colab": {}
      },
      "source": [
        "def predict_with_gbm(trees, x):\n",
        "  preds = 0\n",
        "  for tree in trees:\n",
        "    preds += tree.predict(x)\n",
        "  return preds"
      ],
      "execution_count": 0,
      "outputs": []
    },
    {
      "cell_type": "code",
      "metadata": {
        "id": "hXQknlpJMKxg",
        "colab_type": "code",
        "colab": {}
      },
      "source": [
        "np.round(metrics.mean_absolute_error(y[:, 0], predict_with_gbm(trees, x)), 4)"
      ],
      "execution_count": 0,
      "outputs": []
    },
    {
      "cell_type": "code",
      "metadata": {
        "id": "fI1B0gVUMvv8",
        "colab_type": "code",
        "colab": {}
      },
      "source": [
        ""
      ],
      "execution_count": 0,
      "outputs": []
    }
  ]
}